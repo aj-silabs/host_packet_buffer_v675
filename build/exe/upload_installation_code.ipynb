{
 "cells": [
  {
   "cell_type": "code",
   "execution_count": 19,
   "metadata": {},
   "outputs": [
    {
     "output_type": "stream",
     "name": "stdout",
     "text": "['MFG_EMBER_EUI_64              : 467809FEFF570B00']\n000B57FFFE097846\n"
    }
   ],
   "source": [
    "import os\n",
    "import re\n",
    "import struct\n",
    "\n",
    "text = os.popen(\"commander tokendump --tokengroup znet --device efr32mg1p\")\n",
    "\n",
    "result = re.findall(\"MFG_EMBER_EUI_64\\ +:\\ \\w+\",text.read())\n",
    "\n",
    "print(result)\n",
    "\n",
    "str = list(filter(lambda x: x!=None,result))[0].split(\":\")[-1]\n",
    "\n",
    "eui = re.sub('\\s+','',str)\n",
    "\n",
    "def reverse_hex_string(str):\n",
    "    def helper(s,prev):\n",
    "        if len(s) == 0:\n",
    "            return prev\n",
    "        else:\n",
    "            a = s[0]\n",
    "            b = s[1]\n",
    "            c = s[2]\n",
    "            d = s[3]\n",
    "\n",
    "            f =s[2]+s[3]+s[0]+s[1]+prev\n",
    "\n",
    "            return helper(s[4:],f)\n",
    "\n",
    "    return helper(str,\"\")\n",
    "\n",
    "print(reverse_hex_string(eui))\n",
    "\n",
    "mac_address = reverse_hex_string(eui).strip()\n",
    "\n"
   ]
  },
  {
   "cell_type": "code",
   "execution_count": 22,
   "metadata": {},
   "outputs": [
    {
     "output_type": "stream",
     "name": "stdout",
     "text": "000b57fffe097846\nNo match\nNo match\nNo match\nNo match\nNo match\nNo match\nNo match\nNo match\nNo match\nNo match\nNo match\nNo match\nNo match\nNo match\nNo match\nNo match\nNo match\nNo match\nNo match\n16ff5dd6a6acfb61f83de4f572ff37d0\n\n"
    }
   ],
   "source": [
    "mac_address = mac_address.lower()\n",
    "print(mac_address)\n",
    "pattern = mac_address + \"\\ +\\w+\\n\"\n",
    "\n",
    "global install_code\n",
    "install_code = None\n",
    "\n",
    "with open(\"install_code.csv\",\"r\") as handler:\n",
    "    for line in handler.readlines():\n",
    "        result = re.findall(pattern,line)\n",
    "    \n",
    "        if result == []:\n",
    "            print(\"No match\")\n",
    "        else:\n",
    "            install_code = result[0].split(\" \")[1]\n",
    "\n",
    "print(install_code)"
   ]
  },
  {
   "cell_type": "code",
   "execution_count": 25,
   "metadata": {},
   "outputs": [],
   "source": [
    "def reverse_install_code(str):\n",
    "    def reverse_iter(s,prev):\n",
    "        if len(s) < 4:\n",
    "            return prev\n",
    "        else:\n",
    "            a = s[0]\n",
    "            b = s[1]\n",
    "            c = s[2]\n",
    "            c = s[3]\n",
    "\n",
    "            f = prev + s[2]+s[3]+s[0]+s[1] \n",
    "            return reverse_iter(s[4:],f)\n",
    "\n",
    "    return reverse_iter(str,\"\")\n",
    "\n",
    "install_code = reverse_install_code(install_code)\n"
   ]
  },
  {
   "cell_type": "code",
   "execution_count": 15,
   "metadata": {},
   "outputs": [],
   "source": [
    "def repalce(matchObj):\n",
    "    text = matchObj.group(0).split(\":\")\n",
    "    text[1] = install_code\n",
    "\n",
    "    return \":\".john(text)\n",
    "\n",
    "def replace(matchObj):\n",
    "        text = matchObj.group(0).split(\":\")\n",
    "        text[1] = install_code\n",
    "        return \":\".join(text)\n",
    "\n",
    "with open(\"token.txt\",\"r\") as handler:\n",
    "    text = \"\"\n",
    "    for line in handler.readlines():\n",
    "        result = re.sub(\"Install Code\\ +:\\ +\\w+\",replace,line)\n",
    "        text = text + result\n",
    "\n",
    "with open(\"token.txt\",\"w\") as handler:\n",
    "    handler.write(text)\n",
    "\n",
    "\n",
    "\n",
    "\n",
    "\n",
    "    \n",
    "    "
   ]
  },
  {
   "cell_type": "code",
   "execution_count": 16,
   "metadata": {},
   "outputs": [
    {
     "output_type": "stream",
     "name": "stdout",
     "text": "Writing 2048 bytes starting at address 0x0fe04000\nComparing range 0x0FE04000 - 0x0FE047FF (2 KB)\nDONE\n\n"
    }
   ],
   "source": [
    "response = os.popen(\"commander flash --tokengroup znet --tokenfile token.txt\")\n",
    "\n",
    "print(response.read())"
   ]
  },
  {
   "cell_type": "code",
   "execution_count": 23,
   "metadata": {},
   "outputs": [
    {
     "output_type": "execute_result",
     "data": {
      "text/plain": "'11003322554477669988BBAADDCCFFEE'"
     },
     "metadata": {},
     "execution_count": 23
    }
   ],
   "source": [
    "import os\n",
    "import re\n",
    "text = os.popen(\"commander tokendump --tokengroup znet --token MFG_INSTALLATION_CODE\")\n",
    "result=re.findall(\"Install\\ Code\\ +:\\ +\\w+\\n\",text.read())\n",
    "result[0].split(\":\")[1][0:-1].strip()"
   ]
  },
  {
   "cell_type": "code",
   "execution_count": 24,
   "metadata": {},
   "outputs": [
    {
     "output_type": "stream",
     "name": "stdout",
     "text": "00112233445566778899aabbccddeeff\n\nCode is not Installed\n\n"
    }
   ],
   "source": [
    "print(install_code)\n",
    "if install_code == result[0].split(\":\")[1][0:-2].strip():\n",
    "    print(\"Code Installed successfully\\n\")\n",
    "else:\n",
    "    print(\"Code is not Installed\\n\")"
   ]
  },
  {
   "cell_type": "code",
   "execution_count": 108,
   "metadata": {},
   "outputs": [
    {
     "output_type": "stream",
     "name": "stdout",
     "text": "440075910\n"
    }
   ],
   "source": [
    "import re\n",
    "import os\n",
    "import argparse\n",
    "\n",
    "ADAPTERS = \"commander adapter probe\"\n",
    "\n",
    "parser = argparse.ArgumentParser(description=\"Install install-code\")\n",
    "\n",
    "response = os.popen(ADAPTERS,'r').read()\n",
    "\n",
    "pattern = r\"Available USB serial numbers:\\n((\\w+\\n)+)DONE\"\n",
    "\n",
    "result = re.search(r\"Available USB serial numbers:\\n((\\w+\\n)+)DONE\",response)\n",
    "\n",
    "if result is not None:\n",
    "    result = (result.group(1).split(\"\\n\"))\n",
    "else:\n",
    "    result = re.search(r\"J-Link Serial\\ + :\\ +(\\w+)\",response)\n",
    "\n",
    "print(result.group(1))\n",
    "\n",
    "#len(list(filter(lambda x:x!='',result)))\n",
    "\n",
    "\n"
   ]
  },
  {
   "cell_type": "code",
   "execution_count": null,
   "metadata": {},
   "outputs": [],
   "source": []
  }
 ],
 "metadata": {
  "language_info": {
   "codemirror_mode": {
    "name": "ipython",
    "version": 3
   },
   "file_extension": ".py",
   "mimetype": "text/x-python",
   "name": "python",
   "nbconvert_exporter": "python",
   "pygments_lexer": "ipython3",
   "version": "3.7.1-final"
  },
  "orig_nbformat": 2,
  "kernelspec": {
   "name": "python37164bit7e9cb094e0844515965b1e5d146d430f",
   "display_name": "Python 3.7.1 64-bit"
  }
 },
 "nbformat": 4,
 "nbformat_minor": 2
}